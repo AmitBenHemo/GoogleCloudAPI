{
 "cells": [
  {
   "cell_type": "code",
   "execution_count": 1,
   "id": "b426bc8f",
   "metadata": {},
   "outputs": [
    {
     "name": "stdout",
     "output_type": "stream",
     "text": [
      "Requirement already satisfied: google-cloud-vision in c:\\users\\amitb\\anaconda3\\lib\\site-packages (3.7.2)\n",
      "Requirement already satisfied: google-api-core[grpc]!=2.0.*,!=2.1.*,!=2.10.*,!=2.2.*,!=2.3.*,!=2.4.*,!=2.5.*,!=2.6.*,!=2.7.*,!=2.8.*,!=2.9.*,<3.0.0dev,>=1.34.1 in c:\\users\\amitb\\anaconda3\\lib\\site-packages (from google-cloud-vision) (2.11.0)\n",
      "Requirement already satisfied: proto-plus<2.0.0dev,>=1.22.3 in c:\\users\\amitb\\anaconda3\\lib\\site-packages (from google-cloud-vision) (1.23.0)\n",
      "Requirement already satisfied: google-auth!=2.24.0,!=2.25.0,<3.0.0dev,>=2.14.1 in c:\\users\\amitb\\anaconda3\\lib\\site-packages (from google-cloud-vision) (2.19.0)\n",
      "Requirement already satisfied: protobuf!=3.20.0,!=3.20.1,!=4.21.0,!=4.21.1,!=4.21.2,!=4.21.3,!=4.21.4,!=4.21.5,<5.0.0dev,>=3.19.5 in c:\\users\\amitb\\anaconda3\\lib\\site-packages (from google-cloud-vision) (4.25.3)\n",
      "Requirement already satisfied: requests<3.0.0dev,>=2.18.0 in c:\\users\\amitb\\anaconda3\\lib\\site-packages (from google-api-core[grpc]!=2.0.*,!=2.1.*,!=2.10.*,!=2.2.*,!=2.3.*,!=2.4.*,!=2.5.*,!=2.6.*,!=2.7.*,!=2.8.*,!=2.9.*,<3.0.0dev,>=1.34.1->google-cloud-vision) (2.28.1)\n",
      "Requirement already satisfied: googleapis-common-protos<2.0dev,>=1.56.2 in c:\\users\\amitb\\anaconda3\\lib\\site-packages (from google-api-core[grpc]!=2.0.*,!=2.1.*,!=2.10.*,!=2.2.*,!=2.3.*,!=2.4.*,!=2.5.*,!=2.6.*,!=2.7.*,!=2.8.*,!=2.9.*,<3.0.0dev,>=1.34.1->google-cloud-vision) (1.59.0)\n",
      "Requirement already satisfied: grpcio-status<2.0dev,>=1.33.2 in c:\\users\\amitb\\anaconda3\\lib\\site-packages (from google-api-core[grpc]!=2.0.*,!=2.1.*,!=2.10.*,!=2.2.*,!=2.3.*,!=2.4.*,!=2.5.*,!=2.6.*,!=2.7.*,!=2.8.*,!=2.9.*,<3.0.0dev,>=1.34.1->google-cloud-vision) (1.62.2)\n",
      "Requirement already satisfied: grpcio<2.0dev,>=1.33.2 in c:\\users\\amitb\\anaconda3\\lib\\site-packages (from google-api-core[grpc]!=2.0.*,!=2.1.*,!=2.10.*,!=2.2.*,!=2.3.*,!=2.4.*,!=2.5.*,!=2.6.*,!=2.7.*,!=2.8.*,!=2.9.*,<3.0.0dev,>=1.34.1->google-cloud-vision) (1.63.0)\n",
      "Requirement already satisfied: pyasn1-modules>=0.2.1 in c:\\users\\amitb\\anaconda3\\lib\\site-packages (from google-auth!=2.24.0,!=2.25.0,<3.0.0dev,>=2.14.1->google-cloud-vision) (0.2.8)\n",
      "Requirement already satisfied: six>=1.9.0 in c:\\users\\amitb\\anaconda3\\lib\\site-packages (from google-auth!=2.24.0,!=2.25.0,<3.0.0dev,>=2.14.1->google-cloud-vision) (1.16.0)\n",
      "Requirement already satisfied: cachetools<6.0,>=2.0.0 in c:\\users\\amitb\\anaconda3\\lib\\site-packages (from google-auth!=2.24.0,!=2.25.0,<3.0.0dev,>=2.14.1->google-cloud-vision) (5.3.0)\n",
      "Requirement already satisfied: rsa<5,>=3.1.4 in c:\\users\\amitb\\anaconda3\\lib\\site-packages (from google-auth!=2.24.0,!=2.25.0,<3.0.0dev,>=2.14.1->google-cloud-vision) (4.9)\n",
      "Requirement already satisfied: urllib3<2.0 in c:\\users\\amitb\\anaconda3\\lib\\site-packages (from google-auth!=2.24.0,!=2.25.0,<3.0.0dev,>=2.14.1->google-cloud-vision) (1.26.11)\n",
      "Requirement already satisfied: pyasn1<0.5.0,>=0.4.6 in c:\\users\\amitb\\anaconda3\\lib\\site-packages (from pyasn1-modules>=0.2.1->google-auth!=2.24.0,!=2.25.0,<3.0.0dev,>=2.14.1->google-cloud-vision) (0.4.8)\n",
      "Requirement already satisfied: certifi>=2017.4.17 in c:\\users\\amitb\\anaconda3\\lib\\site-packages (from requests<3.0.0dev,>=2.18.0->google-api-core[grpc]!=2.0.*,!=2.1.*,!=2.10.*,!=2.2.*,!=2.3.*,!=2.4.*,!=2.5.*,!=2.6.*,!=2.7.*,!=2.8.*,!=2.9.*,<3.0.0dev,>=1.34.1->google-cloud-vision) (2022.9.14)\n",
      "Requirement already satisfied: charset-normalizer<3,>=2 in c:\\users\\amitb\\anaconda3\\lib\\site-packages (from requests<3.0.0dev,>=2.18.0->google-api-core[grpc]!=2.0.*,!=2.1.*,!=2.10.*,!=2.2.*,!=2.3.*,!=2.4.*,!=2.5.*,!=2.6.*,!=2.7.*,!=2.8.*,!=2.9.*,<3.0.0dev,>=1.34.1->google-cloud-vision) (2.0.4)\n",
      "Requirement already satisfied: idna<4,>=2.5 in c:\\users\\amitb\\anaconda3\\lib\\site-packages (from requests<3.0.0dev,>=2.18.0->google-api-core[grpc]!=2.0.*,!=2.1.*,!=2.10.*,!=2.2.*,!=2.3.*,!=2.4.*,!=2.5.*,!=2.6.*,!=2.7.*,!=2.8.*,!=2.9.*,<3.0.0dev,>=1.34.1->google-cloud-vision) (3.3)\n"
     ]
    }
   ],
   "source": [
    "!pip install google-cloud-vision"
   ]
  },
  {
   "cell_type": "code",
   "execution_count": 2,
   "id": "7620d46e",
   "metadata": {},
   "outputs": [],
   "source": [
    "import os"
   ]
  },
  {
   "cell_type": "code",
   "execution_count": 3,
   "id": "84a9ac17",
   "metadata": {},
   "outputs": [],
   "source": [
    "os.environ['GOOGLE_APPLICATION_CREDENTIALS']= 'C:/Users/amitb/CVandNLP/datasciencecourse-423120-fc361f628969.json'"
   ]
  },
  {
   "cell_type": "code",
   "execution_count": 4,
   "id": "cddbda8d",
   "metadata": {},
   "outputs": [],
   "source": [
    "def detect_labels(path):\n",
    "    \"\"\"Detects labels in the file.\"\"\"\n",
    "    from google.cloud import vision\n",
    "\n",
    "    client = vision.ImageAnnotatorClient()\n",
    "\n",
    "    with open(path, \"rb\") as image_file:\n",
    "        content = image_file.read()\n",
    "\n",
    "    image = vision.Image(content=content)\n",
    "\n",
    "    response = client.label_detection(image=image)\n",
    "    labels = response.label_annotations\n",
    "    print(\"Labels:\")\n",
    "\n",
    "    for label in labels:\n",
    "        print(label.description)\n",
    "\n",
    "    if response.error.message:\n",
    "        raise Exception(\n",
    "            \"{}\\nFor more info on error messages, check: \"\n",
    "            \"https://cloud.google.com/apis/design/errors\".format(response.error.message)\n",
    "        )\n"
   ]
  },
  {
   "cell_type": "code",
   "execution_count": 9,
   "id": "8f4e3a9a",
   "metadata": {},
   "outputs": [],
   "source": [
    "def detect_text(path):\n",
    "    \"\"\"Detects text in the file.\"\"\"\n",
    "    from google.cloud import vision\n",
    "\n",
    "    client = vision.ImageAnnotatorClient()\n",
    "\n",
    "    with open(path, \"rb\") as image_file:\n",
    "        content = image_file.read()\n",
    "\n",
    "    image = vision.Image(content=content)\n",
    "\n",
    "    response = client.text_detection(image=image)\n",
    "    texts = response.text_annotations\n",
    "    print(\"Texts:\")\n",
    "\n",
    "    for text in texts:\n",
    "        print(f'\\n\"{text.description}\"')\n",
    "\n",
    "        vertices = [\n",
    "            f\"({vertex.x},{vertex.y})\" for vertex in text.bounding_poly.vertices\n",
    "        ]\n",
    "\n",
    "        print(\"bounds: {}\".format(\",\".join(vertices)))\n",
    "\n",
    "    if response.error.message:\n",
    "        raise Exception(\n",
    "            \"{}\\nFor more info on error messages, check: \"\n",
    "            \"https://cloud.google.com/apis/design/errors\".format(response.error.message)\n",
    "        )\n"
   ]
  },
  {
   "cell_type": "markdown",
   "id": "f87b77fc",
   "metadata": {},
   "source": [
    "## detect labels"
   ]
  },
  {
   "cell_type": "code",
   "execution_count": 10,
   "id": "837e634a",
   "metadata": {},
   "outputs": [
    {
     "name": "stdout",
     "output_type": "stream",
     "text": [
      "Labels:\n",
      "Car\n",
      "Building\n",
      "Tire\n",
      "Vehicle\n",
      "Motor vehicle\n",
      "Infrastructure\n",
      "Wheel\n",
      "Mode of transport\n",
      "Travel\n",
      "Thoroughfare\n",
      "None\n"
     ]
    }
   ],
   "source": [
    "print(detect_labels('C:/Users/amitb/CVandNLP/newYorkLabels.jpg'))"
   ]
  },
  {
   "cell_type": "code",
   "execution_count": 7,
   "id": "b2c1492a",
   "metadata": {},
   "outputs": [
    {
     "name": "stdout",
     "output_type": "stream",
     "text": [
      "Labels:\n",
      "Vertebrate\n",
      "Nature\n",
      "Toy\n",
      "Organism\n",
      "Mammal\n",
      "Plant\n",
      "Happy\n",
      "Terrestrial animal\n",
      "Adaptation\n",
      "Grass\n",
      "None\n"
     ]
    }
   ],
   "source": [
    "print(detect_labels('C:/Users/amitb/CVandNLP/PandaEatsBambook.jpg'))"
   ]
  },
  {
   "cell_type": "code",
   "execution_count": 8,
   "id": "0489b60a",
   "metadata": {
    "scrolled": true
   },
   "outputs": [
    {
     "name": "stdout",
     "output_type": "stream",
     "text": [
      "Labels:\n",
      "Gesture\n",
      "Happy\n",
      "Font\n",
      "Handwriting\n",
      "Grass\n",
      "Thumb\n",
      "Forest\n",
      "Number\n",
      "Event\n",
      "Nail\n",
      "None\n"
     ]
    }
   ],
   "source": [
    "print(detect_labels('C:/Users/amitb/CVandNLP/YouAreBeautiful.jpg'))"
   ]
  },
  {
   "cell_type": "markdown",
   "id": "f86468df",
   "metadata": {},
   "source": [
    "## detect text"
   ]
  },
  {
   "cell_type": "code",
   "execution_count": 12,
   "id": "1251d9eb",
   "metadata": {},
   "outputs": [
    {
     "name": "stdout",
     "output_type": "stream",
     "text": [
      "Texts:\n",
      "\n",
      "\"PELS\"\n",
      "bounds: (103,42),(133,42),(133,65),(103,65)\n",
      "\n",
      "\"PELS\"\n",
      "bounds: (103,48),(129,42),(133,58),(107,65)\n",
      "None\n"
     ]
    }
   ],
   "source": [
    "print(detect_text('C:/Users/amitb/CVandNLP/newYorkLabels.jpg'))"
   ]
  },
  {
   "cell_type": "code",
   "execution_count": 13,
   "id": "6e4b8d7a",
   "metadata": {},
   "outputs": [
    {
     "name": "stdout",
     "output_type": "stream",
     "text": [
      "Texts:\n",
      "None\n"
     ]
    }
   ],
   "source": [
    "print(detect_text('C:/Users/amitb/CVandNLP/PandaEatsBambook.jpg'))"
   ]
  },
  {
   "cell_type": "code",
   "execution_count": 14,
   "id": "fcd7c5ad",
   "metadata": {},
   "outputs": [
    {
     "name": "stdout",
     "output_type": "stream",
     "text": [
      "Texts:\n",
      "\n",
      "\"You\n",
      "Are\n",
      "Beautiful\"\n",
      "bounds: (1522,1523),(2724,1523),(2724,2602),(1522,2602)\n",
      "\n",
      "\"You\"\n",
      "bounds: (1671,1551),(2354,1545),(2357,1895),(1674,1902)\n",
      "\n",
      "\"Are\"\n",
      "bounds: (1686,1980),(2269,1954),(2280,2187),(1696,2212)\n",
      "\n",
      "\"Beautiful\"\n",
      "bounds: (1547,2259),(2708,2203),(2724,2545),(1563,2602)\n",
      "None\n"
     ]
    }
   ],
   "source": [
    "print(detect_text('C:/Users/amitb/CVandNLP/YouAreBeautiful.jpg'))"
   ]
  },
  {
   "cell_type": "code",
   "execution_count": null,
   "id": "521701d9",
   "metadata": {},
   "outputs": [],
   "source": []
  }
 ],
 "metadata": {
  "kernelspec": {
   "display_name": "Python 3 (ipykernel)",
   "language": "python",
   "name": "python3"
  },
  "language_info": {
   "codemirror_mode": {
    "name": "ipython",
    "version": 3
   },
   "file_extension": ".py",
   "mimetype": "text/x-python",
   "name": "python",
   "nbconvert_exporter": "python",
   "pygments_lexer": "ipython3",
   "version": "3.9.13"
  }
 },
 "nbformat": 4,
 "nbformat_minor": 5
}
